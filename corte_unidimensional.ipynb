{
 "cells": [
  {
   "cell_type": "code",
   "execution_count": 2,
   "id": "ea0cf5f2",
   "metadata": {},
   "outputs": [],
   "source": [
    "def encontrar_combinacoes(comprimentos, limite):\n",
    "    solucoes = set()\n",
    "\n",
    "    def backtrack(combinacao, total):\n",
    "        if total > limite:\n",
    "            return\n",
    "\n",
    "        pode_adicionar = False\n",
    "        for comp in comprimentos:\n",
    "            if total + comp <= limite:\n",
    "                pode_adicionar = True\n",
    "                break\n",
    "                \n",
    "        if not pode_adicionar and total > 0:\n",
    "            desperdicio = limite - total\n",
    "            #if tuple(tuple(combinacao + [total] + [desperdicio])) not in solucoes:\n",
    "             #   print(combinacao)\n",
    "            solucoes.add(tuple(combinacao + [total] + [desperdicio]))\n",
    "            return\n",
    "\n",
    "        for i, comp in enumerate(comprimentos):\n",
    "            nova_combinacao = combinacao[:]\n",
    "            nova_combinacao[i] += 1\n",
    "            backtrack(nova_combinacao, total + comp)\n",
    "\n",
    "    combinacao_inicial = [0] * len(comprimentos)\n",
    "    backtrack(combinacao_inicial, 0)\n",
    "\n",
    "    return solucoes\n",
    "\n",
    "def printar_solucoes(solucoes):\n",
    "    for s in solucoes: \n",
    "        total = s[-2]\n",
    "        desperdicio = s[-1]\n",
    "        partes = []\n",
    "        for qtd, tamanho in zip(s[:-1], comprimentos):\n",
    "            partes.append(f\"{qtd} barras de {tamanho} metros\")\n",
    "        frase = \" + \".join(partes)\n",
    "        print()\n",
    "        print(f\"{frase} | total = {total} metros | desperdicio = {desperdicio} metros\")\n",
    "\n",
    "def montar_desperdicio(solucoes):\n",
    "    desperdicio = []\n",
    "    for s in solucoes:\n",
    "        desperdicio.append(s[-1])\n",
    "    return desperdicio\n",
    "\n",
    "def montar_matriz_respostas(solucoes):\n",
    "    return transpor_matriz([list(s[:-2]) for s in solucoes])\n",
    "\n",
    "def transpor_matriz(matriz):\n",
    "    linhas = len(matriz)\n",
    "    colunas = len(matriz[0])\n",
    "    transposta = [[0 for _ in range(linhas)] for _ in range(colunas)]\n",
    "    for i in range(linhas):\n",
    "        for j in range(colunas):\n",
    "            transposta[j][i] = matriz[i][j]\n",
    "    return transposta"
   ]
  },
  {
   "cell_type": "code",
   "execution_count": 3,
   "id": "546fe13f",
   "metadata": {},
   "outputs": [
    {
     "name": "stdout",
     "output_type": "stream",
     "text": [
      "[30, 40, 20, 10, 0]\n"
     ]
    }
   ],
   "source": [
    "comprimentos = [50, 60, 80]\n",
    "limite = 150\n",
    "\n",
    "solucoes = encontrar_combinacoes(comprimentos, limite)\n",
    "\n",
    "desperdicio = montar_desperdicio(solucoes)\n",
    "n = len(desperdicio)\n",
    "print(desperdicio)\n",
    "\n",
    "limitantes = [120, 100, 70]\n",
    "\n",
    "coeficientes = montar_matriz_respostas(solucoes)"
   ]
  },
  {
   "cell_type": "code",
   "execution_count": 4,
   "id": "db2402e2",
   "metadata": {},
   "outputs": [
    {
     "name": "stdout",
     "output_type": "stream",
     "text": [
      "Requirement already satisfied: ortools in c:\\users\\ptimb\\appdata\\local\\programs\\python\\python311\\lib\\site-packages (9.12.4544)\n",
      "Requirement already satisfied: absl-py>=2.0.0 in c:\\users\\ptimb\\appdata\\local\\programs\\python\\python311\\lib\\site-packages (from ortools) (2.2.2)\n",
      "Requirement already satisfied: numpy>=1.13.3 in c:\\users\\ptimb\\appdata\\local\\programs\\python\\python311\\lib\\site-packages (from ortools) (1.26.3)\n",
      "Requirement already satisfied: pandas>=2.0.0 in c:\\users\\ptimb\\appdata\\local\\programs\\python\\python311\\lib\\site-packages (from ortools) (2.1.4)\n",
      "Requirement already satisfied: protobuf<5.30,>=5.29.3 in c:\\users\\ptimb\\appdata\\local\\programs\\python\\python311\\lib\\site-packages (from ortools) (5.29.4)\n",
      "Requirement already satisfied: immutabledict>=3.0.0 in c:\\users\\ptimb\\appdata\\local\\programs\\python\\python311\\lib\\site-packages (from ortools) (4.2.1)\n",
      "Requirement already satisfied: python-dateutil>=2.8.2 in c:\\users\\ptimb\\appdata\\roaming\\python\\python311\\site-packages (from pandas>=2.0.0->ortools) (2.8.2)\n",
      "Requirement already satisfied: pytz>=2020.1 in c:\\users\\ptimb\\appdata\\local\\programs\\python\\python311\\lib\\site-packages (from pandas>=2.0.0->ortools) (2023.3.post1)\n",
      "Requirement already satisfied: tzdata>=2022.1 in c:\\users\\ptimb\\appdata\\local\\programs\\python\\python311\\lib\\site-packages (from pandas>=2.0.0->ortools) (2023.4)\n",
      "Requirement already satisfied: six>=1.5 in c:\\users\\ptimb\\appdata\\roaming\\python\\python311\\site-packages (from python-dateutil>=2.8.2->pandas>=2.0.0->ortools) (1.16.0)\n",
      "Note: you may need to restart the kernel to use updated packages.\n"
     ]
    },
    {
     "name": "stderr",
     "output_type": "stream",
     "text": [
      "\n",
      "[notice] A new release of pip is available: 25.0.1 -> 25.1.1\n",
      "[notice] To update, run: python.exe -m pip install --upgrade pip\n"
     ]
    }
   ],
   "source": [
    "%pip install ortools"
   ]
  },
  {
   "cell_type": "code",
   "execution_count": 5,
   "id": "f33bb7b1",
   "metadata": {},
   "outputs": [
    {
     "name": "stdout",
     "output_type": "stream",
     "text": [
      "load c:\\Users\\ptimb\\AppData\\Local\\Programs\\Python\\Python311\\Lib\\site-packages\\ortools\\.libs\\zlib1.dll...\n",
      "load c:\\Users\\ptimb\\AppData\\Local\\Programs\\Python\\Python311\\Lib\\site-packages\\ortools\\.libs\\abseil_dll.dll...\n",
      "load c:\\Users\\ptimb\\AppData\\Local\\Programs\\Python\\Python311\\Lib\\site-packages\\ortools\\.libs\\utf8_validity.dll...\n",
      "load c:\\Users\\ptimb\\AppData\\Local\\Programs\\Python\\Python311\\Lib\\site-packages\\ortools\\.libs\\re2.dll...\n",
      "load c:\\Users\\ptimb\\AppData\\Local\\Programs\\Python\\Python311\\Lib\\site-packages\\ortools\\.libs\\libprotobuf.dll...\n",
      "load c:\\Users\\ptimb\\AppData\\Local\\Programs\\Python\\Python311\\Lib\\site-packages\\ortools\\.libs\\highs.dll...\n",
      "load c:\\Users\\ptimb\\AppData\\Local\\Programs\\Python\\Python311\\Lib\\site-packages\\ortools\\.libs\\ortools.dll...\n"
     ]
    }
   ],
   "source": [
    "from ortools.linear_solver import pywraplp"
   ]
  },
  {
   "cell_type": "code",
   "execution_count": 6,
   "id": "3bf75e99",
   "metadata": {},
   "outputs": [],
   "source": [
    "solver = pywraplp.Solver.CreateSolver('SCIP') #declara o solver: SCIP para PLI e GLOP para PL\n",
    "infinity = solver.infinity()"
   ]
  },
  {
   "cell_type": "code",
   "execution_count": 7,
   "id": "6cb7b6d7",
   "metadata": {},
   "outputs": [],
   "source": [
    "x = []\n",
    "for i in range(len(coeficientes[0])):\n",
    "    x.append(solver.IntVar(0.0, infinity, 'p' + str(i+1)))"
   ]
  },
  {
   "cell_type": "code",
   "execution_count": 8,
   "id": "cb18d360",
   "metadata": {},
   "outputs": [],
   "source": [
    "objetivo = solver.Objective()\n",
    "for i in range(n):\n",
    "  objetivo.SetCoefficient(x[i], desperdicio[i])\n",
    "objetivo.SetMinimization()"
   ]
  },
  {
   "cell_type": "code",
   "execution_count": 9,
   "id": "4a95eb01",
   "metadata": {},
   "outputs": [],
   "source": [
    "for i in range(len(coeficientes)):\n",
    "  restricao = solver.Constraint(limitantes[i],infinity)\n",
    "  for j in range(len(coeficientes[i])):\n",
    "    restricao.SetCoefficient(x[j], coeficientes[i][j])"
   ]
  },
  {
   "cell_type": "code",
   "execution_count": 12,
   "id": "5e55e7b5",
   "metadata": {},
   "outputs": [
    {
     "name": "stdout",
     "output_type": "stream",
     "text": [
      "Solução:\n",
      "Valor da função objetivo = 1000.0\n",
      "p1 = 0.0\n",
      "p2 = 0.0\n",
      "p3 = 0.0\n",
      "p4 = 100.0\n",
      "p5 = 40.0\n",
      "\n",
      "0 barras de 50 metros + 2 barras de 60 metros + 0 barras de 80 metros | total = 120 metros | desperdicio = 30 metros\n",
      "\n",
      "1 barras de 50 metros + 1 barras de 60 metros + 0 barras de 80 metros | total = 110 metros | desperdicio = 40 metros\n",
      "\n",
      "1 barras de 50 metros + 0 barras de 60 metros + 1 barras de 80 metros | total = 130 metros | desperdicio = 20 metros\n",
      "\n",
      "0 barras de 50 metros + 1 barras de 60 metros + 1 barras de 80 metros | total = 140 metros | desperdicio = 10 metros\n",
      "\n",
      "3 barras de 50 metros + 0 barras de 60 metros + 0 barras de 80 metros | total = 150 metros | desperdicio = 0 metros\n"
     ]
    }
   ],
   "source": [
    "status = solver.Solve()\n",
    "if status == pywraplp.Solver.OPTIMAL:\n",
    "  print('Solução:')\n",
    "  print('Valor da função objetivo =', solver.Objective().Value())\n",
    "  for i in range(n):\n",
    "    print(x[i].name(), '=', x[i].solution_value())\n",
    "printar_solucoes(solucoes)"
   ]
  },
  {
   "cell_type": "code",
   "execution_count": 13,
   "id": "bbbec5d5",
   "metadata": {},
   "outputs": [
    {
     "name": "stdout",
     "output_type": "stream",
     "text": [
      "\\ Generated by MPModelProtoExporter\n",
      "\\   Name             : \n",
      "\\   Format           : Free\n",
      "\\   Constraints      : 3\n",
      "\\   Variables        : 5\n",
      "\\     Binary         : 0\n",
      "\\     Integer        : 5\n",
      "\\     Continuous     : 0\n",
      "Minimize\n",
      " Obj: +30 p1 +40 p2 +20 p3 +10 p4 \n",
      "Subject to\n",
      " auto_c_000000000: +1 p2 +1 p3 +3 p5  >= 120\n",
      " auto_c_000000001: +2 p1 +1 p2 +1 p4  >= 100\n",
      " auto_c_000000002: +1 p3 +1 p4  >= 70\n",
      "Bounds\n",
      " 0 <= p1 <= inf\n",
      " 0 <= p2 <= inf\n",
      " 0 <= p3 <= inf\n",
      " 0 <= p4 <= inf\n",
      " 0 <= p5 <= inf\n",
      "Generals\n",
      " p1\n",
      " p2\n",
      " p3\n",
      " p4\n",
      " p5\n",
      "End\n",
      "\n"
     ]
    }
   ],
   "source": [
    "print(solver.ExportModelAsLpFormat(False))"
   ]
  }
 ],
 "metadata": {
  "kernelspec": {
   "display_name": "Python 3",
   "language": "python",
   "name": "python3"
  },
  "language_info": {
   "codemirror_mode": {
    "name": "ipython",
    "version": 3
   },
   "file_extension": ".py",
   "mimetype": "text/x-python",
   "name": "python",
   "nbconvert_exporter": "python",
   "pygments_lexer": "ipython3",
   "version": "3.11.2"
  }
 },
 "nbformat": 4,
 "nbformat_minor": 5
}
