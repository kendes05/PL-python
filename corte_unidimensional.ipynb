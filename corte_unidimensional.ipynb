{
 "cells": [
  {
   "cell_type": "markdown",
   "id": "f0c701ce",
   "metadata": {},
   "source": [
    "# Modelo de PLI para resolução do problema de corte"
   ]
  },
  {
   "cell_type": "markdown",
   "id": "dc77aad1",
   "metadata": {},
   "source": [
    "## Instalação do OR-Tools"
   ]
  },
  {
   "cell_type": "code",
   "execution_count": 31,
   "id": "db2402e2",
   "metadata": {},
   "outputs": [
    {
     "name": "stdout",
     "output_type": "stream",
     "text": [
      "Requirement already satisfied: ortools in c:\\users\\alunop26\\appdata\\local\\programs\\python\\python311\\lib\\site-packages (9.12.4544)\n",
      "Requirement already satisfied: absl-py>=2.0.0 in c:\\users\\alunop26\\appdata\\local\\programs\\python\\python311\\lib\\site-packages (from ortools) (2.3.0)\n",
      "Requirement already satisfied: numpy>=1.13.3 in c:\\users\\alunop26\\appdata\\local\\programs\\python\\python311\\lib\\site-packages (from ortools) (2.2.6)\n",
      "Requirement already satisfied: pandas>=2.0.0 in c:\\users\\alunop26\\appdata\\local\\programs\\python\\python311\\lib\\site-packages (from ortools) (2.2.3)\n",
      "Requirement already satisfied: protobuf<5.30,>=5.29.3 in c:\\users\\alunop26\\appdata\\local\\programs\\python\\python311\\lib\\site-packages (from ortools) (5.29.4)\n",
      "Requirement already satisfied: immutabledict>=3.0.0 in c:\\users\\alunop26\\appdata\\local\\programs\\python\\python311\\lib\\site-packages (from ortools) (4.2.1)\n",
      "Requirement already satisfied: python-dateutil>=2.8.2 in c:\\users\\alunop26\\appdata\\roaming\\python\\python311\\site-packages (from pandas>=2.0.0->ortools) (2.9.0.post0)\n",
      "Requirement already satisfied: pytz>=2020.1 in c:\\users\\alunop26\\appdata\\local\\programs\\python\\python311\\lib\\site-packages (from pandas>=2.0.0->ortools) (2025.2)\n",
      "Requirement already satisfied: tzdata>=2022.7 in c:\\users\\alunop26\\appdata\\local\\programs\\python\\python311\\lib\\site-packages (from pandas>=2.0.0->ortools) (2025.2)\n",
      "Requirement already satisfied: six>=1.5 in c:\\users\\alunop26\\appdata\\roaming\\python\\python311\\site-packages (from python-dateutil>=2.8.2->pandas>=2.0.0->ortools) (1.17.0)\n",
      "Note: you may need to restart the kernel to use updated packages.\n"
     ]
    },
    {
     "name": "stderr",
     "output_type": "stream",
     "text": [
      "\n",
      "[notice] A new release of pip is available: 23.1.2 -> 25.1.1\n",
      "[notice] To update, run: python.exe -m pip install --upgrade pip\n"
     ]
    }
   ],
   "source": [
    "%pip install ortools"
   ]
  },
  {
   "cell_type": "markdown",
   "id": "3cdd7885",
   "metadata": {},
   "source": [
    "## Importação da biblioteca"
   ]
  },
  {
   "cell_type": "code",
   "execution_count": 32,
   "id": "f33bb7b1",
   "metadata": {},
   "outputs": [],
   "source": [
    "from ortools.linear_solver import pywraplp"
   ]
  },
  {
   "cell_type": "markdown",
   "id": "df6b1d42",
   "metadata": {},
   "source": [
    "## Funções auxiliares"
   ]
  },
  {
   "cell_type": "markdown",
   "id": "d0835f97",
   "metadata": {},
   "source": [
    "### Função auxiliar: encontro das possíveis combinações"
   ]
  },
  {
   "cell_type": "code",
   "execution_count": 33,
   "id": "64ba87e2",
   "metadata": {},
   "outputs": [],
   "source": [
    "def encontrar_combinacoes(comprimentos, limite):\n",
    "    \"\"\"\n",
    "    Gera todas as combinações possíveis de cortes respeitando o limite.\n",
    "    \n",
    "    Args:\n",
    "        comprimentos (list[int]): Tamanhos disponíveis para corte.\n",
    "        limite (int): Comprimento máximo da barra.\n",
    "\n",
    "    Returns:\n",
    "        set: Um conjunto de tuplas representando combinações válidas.\n",
    "              Cada tupla contém:\n",
    "              - Quantidade de cada comprimento\n",
    "              - Total utilizado\n",
    "              - Desperdício\n",
    "    \"\"\"\n",
    "    solucoes = set()\n",
    "\n",
    "    def backtrack(combinacao, total):\n",
    "        if total > limite:\n",
    "            return\n",
    "\n",
    "        pode_adicionar = any(total + comp <= limite for comp in comprimentos)\n",
    "\n",
    "        if not pode_adicionar and total > 0:\n",
    "            desperdicio = limite - total\n",
    "            solucoes.add(tuple(combinacao + [total, desperdicio]))\n",
    "            return\n",
    "\n",
    "        for i, comp in enumerate(comprimentos):\n",
    "            nova_combinacao = combinacao[:]\n",
    "            nova_combinacao[i] += 1\n",
    "            backtrack(nova_combinacao, total + comp)\n",
    "\n",
    "    combinacao_inicial = [0] * len(comprimentos)\n",
    "    backtrack(combinacao_inicial, 0)\n",
    "\n",
    "    return solucoes\n"
   ]
  },
  {
   "cell_type": "markdown",
   "id": "76a49cab",
   "metadata": {},
   "source": [
    "### Função auxilir: print das soluções"
   ]
  },
  {
   "cell_type": "code",
   "execution_count": 34,
   "id": "2f45de74",
   "metadata": {},
   "outputs": [],
   "source": [
    "def printar_solucoes(solucoes):\n",
    "    \"\"\"\n",
    "    Exibe todas as soluções possíveis de corte e seus desperdícios.\n",
    "\n",
    "    Args:\n",
    "        solucoes (set): Conjunto de soluções gerado por `encontrar_combinacoes`.\n",
    "    \"\"\"\n",
    "    for i, s in enumerate(solucoes): \n",
    "        total = s[-2]\n",
    "        desperdicio = s[-1]\n",
    "        partes = []\n",
    "        for qtd, tamanho in zip(s[:-2], comprimentos):\n",
    "            if qtd > 0:\n",
    "                partes.append(f\"p{i+1}: {qtd} barras de {tamanho} metros\")\n",
    "        frase = \" + \".join(partes)\n",
    "        print(f\"\\n{frase} | total = {total} metros | desperdicio = {desperdicio} metros\")\n"
   ]
  },
  {
   "cell_type": "markdown",
   "id": "3cf6978d",
   "metadata": {},
   "source": [
    "### Função auxiliar: Montando os desperdícios"
   ]
  },
  {
   "cell_type": "code",
   "execution_count": 35,
   "id": "6fa80d3f",
   "metadata": {},
   "outputs": [],
   "source": [
    "def montar_desperdicio(solucoes):\n",
    "    \"\"\"\n",
    "    Extrai apenas os desperdícios das soluções.\n",
    "\n",
    "    Args:\n",
    "        solucoes (set): Conjunto de soluções.\n",
    "\n",
    "    Returns:\n",
    "        list[int]: Lista com os desperdícios correspondentes a cada solução.\n",
    "    \"\"\"\n",
    "    return [s[-1] for s in solucoes]\n"
   ]
  },
  {
   "cell_type": "markdown",
   "id": "9681bec4",
   "metadata": {},
   "source": [
    "### Função auxiliar: transpor a matriz"
   ]
  },
  {
   "cell_type": "code",
   "execution_count": 36,
   "id": "89f28c90",
   "metadata": {},
   "outputs": [],
   "source": [
    "def transpor_matriz(matriz):\n",
    "    \"\"\"\n",
    "    Transpõe uma matriz (linha vira coluna).\n",
    "\n",
    "    Args:\n",
    "        matriz (list[list[int]]): Matriz original.\n",
    "\n",
    "    Returns:\n",
    "        list[list[int]]: Matriz transposta.\n",
    "    \"\"\"\n",
    "    linhas = len(matriz)\n",
    "    colunas = len(matriz[0])\n",
    "    transposta = [[0 for _ in range(linhas)] for _ in range(colunas)]\n",
    "    for i in range(linhas):\n",
    "        for j in range(colunas):\n",
    "            transposta[j][i] = matriz[i][j]\n",
    "    return transposta\n"
   ]
  },
  {
   "cell_type": "markdown",
   "id": "73c71e8e",
   "metadata": {},
   "source": [
    "### Função auxiliar: Montagem da matriz de solução"
   ]
  },
  {
   "cell_type": "code",
   "execution_count": 37,
   "id": "63ae32a3",
   "metadata": {},
   "outputs": [],
   "source": [
    "def montar_matriz_respostas(solucoes):\n",
    "    \"\"\"\n",
    "    Monta uma matriz onde cada linha representa um tipo de corte e cada coluna uma solução.\n",
    "\n",
    "    Args:\n",
    "        solucoes (set): Conjunto de soluções.\n",
    "\n",
    "    Returns:\n",
    "        list[list[int]]: Matriz transposta com os coeficientes para o PLI.\n",
    "    \"\"\"\n",
    "    return transpor_matriz([list(s[:-2]) for s in solucoes])\n"
   ]
  },
  {
   "cell_type": "markdown",
   "id": "2f75c123",
   "metadata": {},
   "source": [
    "## Leitura e entrada do arquivo de input"
   ]
  },
  {
   "cell_type": "code",
   "execution_count": 38,
   "id": "d4456a4c",
   "metadata": {},
   "outputs": [
    {
     "name": "stdout",
     "output_type": "stream",
     "text": [
      "Limite: 150\n",
      "Comprimentos: [50, 60, 80]\n",
      "Limitantes: [120, 100, 70]\n"
     ]
    }
   ],
   "source": [
    "arquivo = 'entrada.txt'\n",
    "\n",
    "comprimentos = []\n",
    "limitantes = []\n",
    "\n",
    "with open(arquivo, 'r') as f:\n",
    "    primeira_linha = f.readline().strip()\n",
    "    limite, n = map(int, primeira_linha.split())\n",
    "\n",
    "    for _ in range(n):\n",
    "        linha = f.readline().strip()\n",
    "        comp, lim = map(int, linha.split())\n",
    "        comprimentos.append(comp)\n",
    "        limitantes.append(lim)\n",
    "\n",
    "# Exibe os dados lidos\n",
    "print(\"Limite:\", limite)\n",
    "print(\"Comprimentos:\", comprimentos)\n",
    "print(\"Limitantes:\", limitantes)"
   ]
  },
  {
   "cell_type": "markdown",
   "id": "7c36302c",
   "metadata": {},
   "source": [
    "## Geração das combinações possíveis de corte"
   ]
  },
  {
   "cell_type": "code",
   "execution_count": 39,
   "id": "546fe13f",
   "metadata": {},
   "outputs": [],
   "source": [
    "solucoes = encontrar_combinacoes(comprimentos, limite)\n",
    "\n",
    "desperdicio = montar_desperdicio(solucoes)\n",
    "\n",
    "n = len(desperdicio)\n",
    "\n",
    "coeficientes = montar_matriz_respostas(solucoes)"
   ]
  },
  {
   "cell_type": "markdown",
   "id": "8fbf74bf",
   "metadata": {},
   "source": [
    "## Montagem do Modelo de Programação Linear Inteira(PLI)"
   ]
  },
  {
   "cell_type": "code",
   "execution_count": 40,
   "id": "3bf75e99",
   "metadata": {},
   "outputs": [],
   "source": [
    "solver = pywraplp.Solver.CreateSolver('SCIP') #declara o solver: SCIP para PLI e GLOP para PL\n",
    "infinity = solver.infinity()"
   ]
  },
  {
   "cell_type": "markdown",
   "id": "904535b8",
   "metadata": {},
   "source": [
    "###  Variáveis de decisão: número de vezes que cada solução será usada"
   ]
  },
  {
   "cell_type": "code",
   "execution_count": 41,
   "id": "6cb7b6d7",
   "metadata": {},
   "outputs": [],
   "source": [
    "x = []\n",
    "for i in range(len(coeficientes[0])):\n",
    "    x.append(solver.IntVar(0.0, infinity, 'p' + str(i+1)))"
   ]
  },
  {
   "cell_type": "markdown",
   "id": "8102e2e7",
   "metadata": {},
   "source": [
    "### Função objetivo: minimizar desperdício total\n"
   ]
  },
  {
   "cell_type": "code",
   "execution_count": 42,
   "id": "cb18d360",
   "metadata": {},
   "outputs": [],
   "source": [
    "objetivo = solver.Objective()\n",
    "for i in range(n):\n",
    "  objetivo.SetCoefficient(x[i], desperdicio[i])\n",
    "objetivo.SetMinimization()"
   ]
  },
  {
   "cell_type": "markdown",
   "id": "31b121e9",
   "metadata": {},
   "source": [
    "###  Restrições: atender a demanda mínima de cada tipo de peça"
   ]
  },
  {
   "cell_type": "code",
   "execution_count": 43,
   "id": "4a95eb01",
   "metadata": {},
   "outputs": [],
   "source": [
    "for i in range(len(coeficientes)):\n",
    "  restricao = solver.Constraint(limitantes[i],infinity)\n",
    "  for j in range(len(coeficientes[i])):\n",
    "    restricao.SetCoefficient(x[j], coeficientes[i][j])"
   ]
  },
  {
   "cell_type": "markdown",
   "id": "936b458e",
   "metadata": {},
   "source": [
    "## Solução do problema"
   ]
  },
  {
   "cell_type": "code",
   "execution_count": 44,
   "id": "5e55e7b5",
   "metadata": {},
   "outputs": [
    {
     "name": "stdout",
     "output_type": "stream",
     "text": [
      "Solução:\n",
      "Valor da função objetivo = 1000.0\n",
      "p1 = 0.0\n",
      "p2 = 0.0\n",
      "p3 = 0.0\n",
      "p4 = 100.0\n",
      "p5 = 40.0\n",
      "\n",
      "p1: 2 barras de 60 metros | total = 120 metros | desperdicio = 30 metros\n",
      "\n",
      "p2: 1 barras de 50 metros + p2: 1 barras de 60 metros | total = 110 metros | desperdicio = 40 metros\n",
      "\n",
      "p3: 1 barras de 50 metros + p3: 1 barras de 80 metros | total = 130 metros | desperdicio = 20 metros\n",
      "\n",
      "p4: 1 barras de 60 metros + p4: 1 barras de 80 metros | total = 140 metros | desperdicio = 10 metros\n",
      "\n",
      "p5: 3 barras de 50 metros | total = 150 metros | desperdicio = 0 metros\n"
     ]
    }
   ],
   "source": [
    "status = solver.Solve()\n",
    "if status == pywraplp.Solver.OPTIMAL:\n",
    "  print('Solução:')\n",
    "  print('Valor da função objetivo =', solver.Objective().Value())\n",
    "  for i in range(n):\n",
    "    print(x[i].name(), '=', x[i].solution_value())\n",
    "printar_solucoes(solucoes)"
   ]
  },
  {
   "cell_type": "markdown",
   "id": "ab9c4210",
   "metadata": {},
   "source": [
    "## Exportação do modelo"
   ]
  },
  {
   "cell_type": "code",
   "execution_count": 45,
   "id": "bbbec5d5",
   "metadata": {},
   "outputs": [
    {
     "name": "stdout",
     "output_type": "stream",
     "text": [
      "\\ Generated by MPModelProtoExporter\n",
      "\\   Name             : \n",
      "\\   Format           : Free\n",
      "\\   Constraints      : 3\n",
      "\\   Variables        : 5\n",
      "\\     Binary         : 0\n",
      "\\     Integer        : 5\n",
      "\\     Continuous     : 0\n",
      "Minimize\n",
      " Obj: +30 p1 +40 p2 +20 p3 +10 p4 \n",
      "Subject to\n",
      " auto_c_000000000: +1 p2 +1 p3 +3 p5  >= 120\n",
      " auto_c_000000001: +2 p1 +1 p2 +1 p4  >= 100\n",
      " auto_c_000000002: +1 p3 +1 p4  >= 70\n",
      "Bounds\n",
      " 0 <= p1 <= inf\n",
      " 0 <= p2 <= inf\n",
      " 0 <= p3 <= inf\n",
      " 0 <= p4 <= inf\n",
      " 0 <= p5 <= inf\n",
      "Generals\n",
      " p1\n",
      " p2\n",
      " p3\n",
      " p4\n",
      " p5\n",
      "End\n",
      "\n"
     ]
    }
   ],
   "source": [
    "print(solver.ExportModelAsLpFormat(False))"
   ]
  }
 ],
 "metadata": {
  "kernelspec": {
   "display_name": "Python 3",
   "language": "python",
   "name": "python3"
  },
  "language_info": {
   "codemirror_mode": {
    "name": "ipython",
    "version": 3
   },
   "file_extension": ".py",
   "mimetype": "text/x-python",
   "name": "python",
   "nbconvert_exporter": "python",
   "pygments_lexer": "ipython3",
   "version": "3.11.4"
  }
 },
 "nbformat": 4,
 "nbformat_minor": 5
}
